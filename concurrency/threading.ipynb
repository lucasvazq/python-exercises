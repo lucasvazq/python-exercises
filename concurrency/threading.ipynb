{
 "cells": [
  {
   "cell_type": "markdown",
   "metadata": {},
   "source": [
    "## Threading\n",
    "\n",
    "Readings:\n",
    "- https://docs.python.org/es/3/library/threading.html\n",
    "- https://www.educative.io/edpresso/what-are-locks-in-python\n",
    "- https://www.bogotobogo.com/python/Multithread/python_multithreading_Using_Locks_with_statement_Context_Manager.php"
   ]
  },
  {
   "cell_type": "markdown",
   "metadata": {},
   "source": [
    "## Basic methods to get info about the threads"
   ]
  },
  {
   "cell_type": "code",
   "execution_count": 1,
   "metadata": {},
   "outputs": [
    {
     "name": "stdout",
     "output_type": "stream",
     "text": [
      "================= without thread =================\n",
      "thread: <_MainThread(MainThread, started 140331379058496)> - 5\n",
      "\n",
      "dir:\n",
      "['__class__', '__delattr__', '__dict__', '__dir__', '__doc__', '__eq__', '__format__', '__ge__', '__getattribute__', '__gt__', '__hash__', '__init__', '__init_subclass__', '__le__', '__lt__', '__module__', '__ne__', '__new__', '__reduce__', '__reduce_ex__', '__repr__', '__setattr__', '__sizeof__', '__str__', '__subclasshook__', '__weakref__', '_args', '_bootstrap', '_bootstrap_inner', '_daemonic', '_delete', '_ident', '_initialized', '_invoke_excepthook', '_is_stopped', '_kwargs', '_name', '_native_id', '_reset_internal_locks', '_set_ident', '_set_native_id', '_set_tstate_lock', '_started', '_stderr', '_stop', '_target', '_tstate_lock', '_wait_for_tstate_lock', 'daemon', 'getName', 'ident', 'isAlive', 'isDaemon', 'is_alive', 'join', 'name', 'native_id', 'run', 'setDaemon', 'setName', 'start']\n",
      "\n",
      "dict:\n",
      "{'_target': None, '_name': 'MainThread', '_args': (), '_kwargs': {}, '_daemonic': False, '_ident': 140331379058496, '_native_id': 19118, '_tstate_lock': <locked _thread.lock object at 0x7fa1717e1600>, '_started': <threading.Event object at 0x7fa1717e13d0>, '_is_stopped': False, '_initialized': True, '_stderr': <_io.TextIOWrapper name='<stderr>' mode='w' encoding='utf-8'>, '_invoke_excepthook': <function _make_invoke_excepthook.<locals>.invoke_excepthook at 0x7fa1717e8430>}\n",
      "\n",
      "================== with thread ===================\n",
      "thread: <MyThread(CustomName, started 140331169326656)> - 6\n",
      "\n",
      "dir:\n",
      "['__class__', '__delattr__', '__dict__', '__dir__', '__doc__', '__eq__', '__format__', '__ge__', '__getattribute__', '__gt__', '__hash__', '__init__', '__init_subclass__', '__le__', '__lt__', '__module__', '__ne__', '__new__', '__reduce__', '__reduce_ex__', '__repr__', '__setattr__', '__sizeof__', '__str__', '__subclasshook__', '__weakref__', '_args', '_bootstrap', '_bootstrap_inner', '_daemonic', '_delete', '_ident', '_initialized', '_invoke_excepthook', '_is_stopped', '_kwargs', '_name', '_native_id', '_reset_internal_locks', '_set_ident', '_set_native_id', '_set_tstate_lock', '_started', '_stderr', '_stop', '_target', '_tstate_lock', '_wait_for_tstate_lock', 'daemon', 'getName', 'ident', 'isAlive', 'isDaemon', 'is_alive', 'join', 'name', 'native_id', 'run', 'setDaemon', 'setName', 'start']\n",
      "\n",
      "dict:\n",
      "{'_target': <function print_thread at 0x7fa16c3a30d0>, '_name': 'CustomName', '_args': (1,), '_kwargs': {'number': 2}, '_daemonic': False, '_ident': 140331169326656, '_native_id': 19135, '_tstate_lock': <locked _thread.lock object at 0x7fa16c3b2d50>, '_started': <threading.Event object at 0x7fa16c3e80d0>, '_is_stopped': False, '_initialized': True, '_stderr': <ipykernel.iostream.OutStream object at 0x7fa16dc5c760>, '_invoke_excepthook': <function _make_invoke_excepthook.<locals>.invoke_excepthook at 0x7fa16c3ede50>}\n",
      "\n",
      "excepthook:\n",
      "arg: _thread.ExceptHookArgs(exc_type=<class 'Exception'>, exc_value=Exception(), exc_traceback=<traceback object at 0x7fa16c3a5a80>, thread=<MyThread(CustomName, started 140331169326656)>)\n",
      "\n",
      "================ list of threads =================\n",
      "[<_MainThread(MainThread, started 140331379058496)>, <Thread(Thread-2, started daemon 140331290961472)>, <Heartbeat(Thread-3, started daemon 140331211290176)>, <HistorySavingThread(IPythonHistorySavingThread, started 140331186112064)>, <ParentPollerUnix(Thread-1, started daemon 140331177719360)>]\n",
      "\n",
      "===================== frame ======================\n",
      "<frame at 0x7fa16c3a9700, file '/home/lucasvazq/.local/lib/python3.8/site-packages/zmq/sugar/context.py', line 163, code _rm_socket>\n",
      "['__class__', '__delattr__', '__dir__', '__doc__', '__eq__', '__format__', '__ge__', '__getattribute__', '__gt__', '__hash__', '__init__', '__init_subclass__', '__le__', '__lt__', '__ne__', '__new__', '__reduce__', '__reduce_ex__', '__repr__', '__setattr__', '__sizeof__', '__str__', '__subclasshook__', 'clear', 'f_back', 'f_builtins', 'f_code', 'f_globals', 'f_lasti', 'f_lineno', 'f_locals', 'f_trace', 'f_trace_lines', 'f_trace_opcodes']\n"
     ]
    }
   ],
   "source": [
    "import random\n",
    "import time\n",
    "import threading\n",
    "from threading import excepthook as original_excepthook\n",
    "\n",
    "\n",
    "def print_thread(*args, **kwargs):\n",
    "    current_thread = threading.current_thread()\n",
    "    print(f\"thread: {current_thread} - {threading.active_count()}\\n\")\n",
    "    print(f\"dir:\\n{dir(current_thread)}\\n\")\n",
    "    print(f\"dict:\\n{current_thread.__dict__}\\n\")\n",
    "    if current_thread._name == 'CustomName':\n",
    "        raise Exception\n",
    "\n",
    "        \n",
    "def excepthook(arg):\n",
    "    print('excepthook:')\n",
    "    print(f'arg: {arg}')\n",
    "\n",
    "    \n",
    "class MyThread(threading.Thread):\n",
    "    def __init__(self, *args, **kwargs):\n",
    "        super().__init__(*args, **kwargs)\n",
    "\n",
    "        \n",
    "frame = None\n",
    "def func(*args):\n",
    "    global frame\n",
    "    frame = args[0]\n",
    "\n",
    "    \n",
    "def profile(frame, event, arg):\n",
    "    # print(f'{frame!r} {event!r} {arg!r}')\n",
    "    pass\n",
    "\n",
    "\n",
    "threading.settrace(func)\n",
    "threading.setprofile(profile)\n",
    "threading.excepthook = excepthook\n",
    "\n",
    "print(f'{\" without thread \":=^50}')\n",
    "print_thread(1, number=1)\n",
    "\n",
    "print(f'{\" with thread \":=^50}')\n",
    "\n",
    "thread = MyThread(name='CustomName', target=print_thread, args=(1,), kwargs={'number': 2})\n",
    "thread.start()\n",
    "thread.join()\n",
    "\n",
    "print(f'\\n{\" list of threads \":=^50}')\n",
    "print(threading.enumerate())\n",
    "\n",
    "print(f'\\n{\" frame \":=^50}')\n",
    "print(frame)\n",
    "print(dir(frame))\n",
    "\n",
    "threading.excepthook = original_excepthook"
   ]
  },
  {
   "cell_type": "markdown",
   "metadata": {},
   "source": [
    "## Exercise with requests sessions"
   ]
  },
  {
   "cell_type": "code",
   "execution_count": 2,
   "metadata": {},
   "outputs": [
    {
     "name": "stdout",
     "output_type": "stream",
     "text": [
      "https://translate.google.com/\n",
      "https://google.com\n",
      "https://youtube.com\n",
      "https://gmail.com\n"
     ]
    }
   ],
   "source": [
    "import requests\n",
    "\n",
    "\n",
    "def get_session(local_thread):\n",
    "    if not hasattr(local_thread, 'session'):\n",
    "        thread.session = requests.Session()\n",
    "    return thread.session\n",
    "\n",
    "\n",
    "def get_site(site, local_thread):\n",
    "    session = get_session(local_thread)\n",
    "    with session.get(site) as response:\n",
    "        print(site)\n",
    "\n",
    "\n",
    "local_thread = threading.local()\n",
    "for site in ('https://google.com', 'https://youtube.com', 'https://gmail.com', 'https://translate.google.com/'):\n",
    "    threading.Thread(target=get_site, args=(site,local_thread)).start()"
   ]
  },
  {
   "cell_type": "markdown",
   "metadata": {},
   "source": [
    "## Locks"
   ]
  },
  {
   "cell_type": "markdown",
   "metadata": {},
   "source": [
    "### Thread without lock"
   ]
  },
  {
   "cell_type": "code",
   "execution_count": 3,
   "metadata": {},
   "outputs": [
    {
     "name": "stdout",
     "output_type": "stream",
     "text": [
      "5439800\n"
     ]
    }
   ],
   "source": [
    "class Customer:\n",
    "    def __init__(self, money):\n",
    "        self.money = money\n",
    "    def reduce(self, amount):\n",
    "        self.money -= amount\n",
    "    def increment(self, amount):\n",
    "        self.money += amount\n",
    "\n",
    "        \n",
    "def repeat_function(times, function, args):\n",
    "    for _ in range(times):\n",
    "        function(args)\n",
    "\n",
    "        \n",
    "customer = Customer(100)\n",
    "\n",
    "\n",
    "thread_1 = threading.Thread(target=repeat_function, args=(1000000, customer.reduce, 100))\n",
    "thread_2 = threading.Thread(target=repeat_function, args=(1000000, customer.increment, 100))\n",
    "thread_1.start()\n",
    "thread_2.start()\n",
    "thread_1.join()\n",
    "thread_2.join()\n",
    "print(customer.money)"
   ]
  },
  {
   "cell_type": "markdown",
   "metadata": {},
   "source": [
    "### Thread with lock"
   ]
  },
  {
   "cell_type": "markdown",
   "metadata": {},
   "source": [
    "Same lock for differents tasks"
   ]
  },
  {
   "cell_type": "code",
   "execution_count": 4,
   "metadata": {},
   "outputs": [
    {
     "name": "stdout",
     "output_type": "stream",
     "text": [
      "100\n"
     ]
    }
   ],
   "source": [
    "class Customer:\n",
    "    def __init__(self, money):\n",
    "        self.money = money\n",
    "        self.lock = threading.Lock()\n",
    "    def reduce(self, amount):\n",
    "        with self.lock:\n",
    "            self.money -= amount\n",
    "    def increment(self, amount):\n",
    "        with self.lock:\n",
    "            self.money += amount\n",
    "\n",
    "            \n",
    "def repeat_function(times, function, args):\n",
    "    for _ in range(times):\n",
    "        function(args)\n",
    "\n",
    "        \n",
    "customer = Customer(100)\n",
    "thread_1 = threading.Thread(target=repeat_function, args=(1000000, customer.reduce, 100))\n",
    "thread_2 = threading.Thread(target=repeat_function, args=(1000000, customer.increment, 100))\n",
    "thread_1.start()\n",
    "thread_2.start()\n",
    "thread_1.join()\n",
    "thread_2.join()\n",
    "print(customer.money)"
   ]
  },
  {
   "cell_type": "markdown",
   "metadata": {},
   "source": [
    "Different locks for differents tasks"
   ]
  },
  {
   "cell_type": "code",
   "execution_count": 5,
   "metadata": {},
   "outputs": [
    {
     "name": "stdout",
     "output_type": "stream",
     "text": [
      "2227300\n"
     ]
    }
   ],
   "source": [
    "class Customer:\n",
    "    def __init__(self, money):\n",
    "        self.money = money\n",
    "        self.lock_reduce = threading.Lock()\n",
    "        self.lock_increment = threading.Lock()\n",
    "    def reduce(self, amount):\n",
    "        with self.lock_reduce:\n",
    "            self.money -= amount\n",
    "    def increment(self, amount):\n",
    "        with self.lock_increment:\n",
    "            self.money += amount\n",
    "\n",
    "            \n",
    "def repeat_function(times, function, args):\n",
    "    for _ in range(times):\n",
    "        function(args)\n",
    "\n",
    "        \n",
    "customer = Customer(100)\n",
    "thread_1 = threading.Thread(target=repeat_function, args=(1000000, customer.reduce, 100))\n",
    "thread_2 = threading.Thread(target=repeat_function, args=(1000000, customer.increment, 100))\n",
    "thread_1.start()\n",
    "thread_2.start()\n",
    "thread_1.join()\n",
    "thread_2.join()\n",
    "print(customer.money)"
   ]
  },
  {
   "cell_type": "markdown",
   "metadata": {},
   "source": [
    "With lock but without custom thread"
   ]
  },
  {
   "cell_type": "code",
   "execution_count": 6,
   "metadata": {},
   "outputs": [
    {
     "name": "stdout",
     "output_type": "stream",
     "text": [
      "100\n"
     ]
    }
   ],
   "source": [
    "class Customer:\n",
    "\n",
    "    def __init__(self, money):\n",
    "        self.money = money\n",
    "        self.lock = threading.Lock()\n",
    "\n",
    "    def reduce(self, amount):\n",
    "        with self.lock:\n",
    "            self.money -= amount\n",
    "\n",
    "    def increment(self, amount):\n",
    "        with self.lock:\n",
    "            self.money += amount\n",
    "\n",
    "            \n",
    "def repeat_function(times, function, args):\n",
    "    for _ in range(times):\n",
    "        function(args)\n",
    "\n",
    "        \n",
    "customer = Customer(100)\n",
    "repeat_function(1000000, customer.reduce, 100)\n",
    "repeat_function(1000000, customer.increment, 100)\n",
    "print(customer.money)"
   ]
  },
  {
   "cell_type": "markdown",
   "metadata": {},
   "source": [
    "### Recursion using RLock"
   ]
  },
  {
   "cell_type": "code",
   "execution_count": 7,
   "metadata": {},
   "outputs": [
    {
     "name": "stdout",
     "output_type": "stream",
     "text": [
      "120\n"
     ]
    }
   ],
   "source": [
    "class Factorial:\n",
    "    value = 1\n",
    "    \n",
    "    def __init__(self):\n",
    "        self.lock = threading.RLock()\n",
    "    \n",
    "    def set_factorial(self, n):\n",
    "        with self.lock:\n",
    "            if n > 1:\n",
    "                self.value *= n\n",
    "                self.set_factorial(n - 1)\n",
    "\n",
    "\n",
    "factorial = Factorial()\n",
    "thread = threading.Thread(target=factorial.set_factorial, args=(5,))\n",
    "thread.start()\n",
    "thread.join()\n",
    "print(factorial.value)"
   ]
  },
  {
   "cell_type": "markdown",
   "metadata": {},
   "source": [
    "## Conditions\n",
    "\n",
    "Solving https://es.stackoverflow.com/questions/404798/python-threading-condition"
   ]
  },
  {
   "cell_type": "code",
   "execution_count": 8,
   "metadata": {},
   "outputs": [
    {
     "name": "stdout",
     "output_type": "stream",
     "text": [
      "Thread-15 - esperando el vaso\n",
      "Thread-16 - esperando el vaso\n",
      "Thread-17 - esperando el vaso\n",
      "Thread-18 - esperando el vaso\n",
      "Thread-19 - esperando el vaso\n",
      "MainThread - vaso habilitado\n",
      "Thread-15 - comenzó a beber\n",
      "Thread-15 - terminó de beber\n",
      "Thread-16 - comenzó a beber\n",
      "Thread-16 - terminó de beber\n",
      "Thread-17 - comenzó a beber\n",
      "Thread-17 - terminó de beber\n",
      "Thread-18 - comenzó a beber\n",
      "Thread-18 - terminó de beber\n",
      "Thread-19 - comenzó a beber\n",
      "Thread-19 - terminó de beber\n"
     ]
    }
   ],
   "source": [
    "class Cocina:\n",
    "\n",
    "    def __init__(self):\n",
    "        self.condition = threading.Condition()\n",
    "        self.vaso_ocupado = True\n",
    "\n",
    "    def __beber_del_vaso(self):\n",
    "        \"\"\"\n",
    "        Ponemos el vaso como ocupado y simulamos que\n",
    "        se está bebiendo de él.\n",
    "        Cuando se termina, notificamos al siguiente hilo\n",
    "        en la cola.\n",
    "        \"\"\"\n",
    "        self.vaso_ocupado = True\n",
    "        self.print('comenzó a beber')\n",
    "        time.sleep(int(random.randint(1, 3)))  # reduce time from 10 to 3\n",
    "        self.print('terminó de beber')\n",
    "        self.vaso_ocupado = False\n",
    "        self.condition.notify()\n",
    "        self.condition.release()\n",
    "\n",
    "    @staticmethod\n",
    "    def print(msg):\n",
    "        print(f'{threading.current_thread().name} - {msg}')\n",
    "\n",
    "    def esperando_el_vaso(self):\n",
    "        \"\"\"\n",
    "        Se unen las instancias a un estado de espera,\n",
    "        donde, cuando sean notificadas, recién podrán\n",
    "        beber del vaso.\n",
    "        \"\"\"\n",
    "        self.condition.acquire()\n",
    "        while self.vaso_ocupado:\n",
    "            self.print('esperando el vaso')\n",
    "            self.condition.wait()\n",
    "        self.__beber_del_vaso()\n",
    "\n",
    "    def habilitar_vaso(self):\n",
    "        \"\"\"\n",
    "        Notificamos a los hilos que se encuentran en espera,\n",
    "        de que el vaso ya está disponible.\n",
    "        \"\"\"\n",
    "        self.print('vaso habilitado')\n",
    "        self.condition.acquire()\n",
    "        self.vaso_ocupado = False\n",
    "        self.condition.notify()\n",
    "        self.condition.release()\n",
    "\n",
    "        \n",
    "cocina = Cocina()\n",
    "threads = []\n",
    "for _ in range(5):  # reduce threads from 20 to 5\n",
    "    thread = threading.Thread(target=cocina.esperando_el_vaso)\n",
    "    thread.start()\n",
    "    threads.append(thread)\n",
    "time.sleep(5)  # wait some seconds before making the `vaso` available\n",
    "cocina.habilitar_vaso()"
   ]
  },
  {
   "cell_type": "markdown",
   "metadata": {},
   "source": [
    "## Semaphore"
   ]
  },
  {
   "cell_type": "code",
   "execution_count": 9,
   "metadata": {},
   "outputs": [
    {
     "name": "stdout",
     "output_type": "stream",
     "text": [
      "False\n",
      "False\n",
      "Exception caught\n"
     ]
    }
   ],
   "source": [
    "class Restaurant:\n",
    "\n",
    "    def __init__(self, amount_of_chairs):\n",
    "        self.chairs_available = threading.BoundedSemaphore(amount_of_chairs)\n",
    "\n",
    "    def can_reserve(self, amount_of_chairs):\n",
    "        return self.chairs_available._value - amount_of_chairs >= 0\n",
    "\n",
    "    def reserve(self, amount_of_chairs):\n",
    "        if self.can_reserve(amount_of_chairs):\n",
    "            for _ in range(amount_of_chairs):\n",
    "                self.chairs_available.acquire()\n",
    "            return True\n",
    "        return False\n",
    "\n",
    "    def cancel_reserve(self, amount_of_chairs):\n",
    "        for _ in range(amount_of_chairs):\n",
    "            self.chairs_available.release()\n",
    "\n",
    "\n",
    "Tres56 = Restaurant(50)\n",
    "Tres56.reserve(50)\n",
    "print(Tres56.can_reserve(1))\n",
    "print(Tres56.reserve(1))\n",
    "\n",
    "Tres56.cancel_reserve(50)\n",
    "try:\n",
    "    Tres56.cancel_reserve(1)\n",
    "except ValueError:\n",
    "    print('Exception caught')"
   ]
  },
  {
   "cell_type": "markdown",
   "metadata": {},
   "source": [
    "## Events"
   ]
  },
  {
   "cell_type": "code",
   "execution_count": 10,
   "metadata": {},
   "outputs": [
    {
     "name": "stdout",
     "output_type": "stream",
     "text": [
      "A - waiting for the semaphore\n",
      "B - waiting for the semaphore\n",
      "C - waiting for the semaphore\n",
      "B - proceed over the avenue\n",
      "C - proceed over the avenue\n",
      "A - proceed over the avenue\n",
      "D - proceed over the avenue\n",
      "E - proceed over the avenue\n",
      "F - proceed over the avenue\n"
     ]
    }
   ],
   "source": [
    "class AvenueSemaphore:\n",
    "\n",
    "    def __init__(self):\n",
    "        self.semaphore = threading.Event()\n",
    "\n",
    "    def transit_the_avenue(self):\n",
    "        if not self.semaphore.is_set():\n",
    "            print(f'{threading.current_thread().name} - waiting for the semaphore')\n",
    "            self.semaphore.wait()\n",
    "        print(f'{threading.current_thread().name} - proceed over the avenue')\n",
    "\n",
    "        \n",
    "BvGLehmann = AvenueSemaphore()\n",
    "\n",
    "BvGLehmann.semaphore.clear()\n",
    "\n",
    "for identification in ('A', 'B', 'C'):\n",
    "    time.sleep(0.1)\n",
    "    threading.Thread(name=identification, target=BvGLehmann.transit_the_avenue).start()\n",
    "\n",
    "time.sleep(1)\n",
    "\n",
    "BvGLehmann.semaphore.set()\n",
    "for identification in ('D', 'E', 'F'):\n",
    "    time.sleep(0.1)\n",
    "    threading.Thread(name=identification, target=BvGLehmann.transit_the_avenue).start()"
   ]
  },
  {
   "cell_type": "markdown",
   "metadata": {},
   "source": [
    "## Timer"
   ]
  },
  {
   "cell_type": "code",
   "execution_count": 11,
   "metadata": {},
   "outputs": [
    {
     "name": "stdout",
     "output_type": "stream",
     "text": [
      "message\n"
     ]
    }
   ],
   "source": [
    "def message():\n",
    "    print('message')\n",
    "\n",
    "timer = threading.Timer(1, message)\n",
    "timer.start()\n",
    "time.sleep(2)\n",
    "timer.cancel()\n",
    "\n",
    "timer = threading.Timer(2, message)\n",
    "timer.start()\n",
    "time.sleep(1)\n",
    "timer.cancel()"
   ]
  },
  {
   "cell_type": "markdown",
   "metadata": {},
   "source": [
    "## Barrier"
   ]
  },
  {
   "cell_type": "code",
   "execution_count": 12,
   "metadata": {},
   "outputs": [
    {
     "name": "stdout",
     "output_type": "stream",
     "text": [
      "Soldier #1 in position!\n",
      "Soldier #2 in position!\n",
      "Soldier #3 in position!\n",
      "Soldier #4 in position!\n",
      "Soldier #5 in position!\n",
      "Soldier #6 in position!\n",
      "Soldier #7 in position!\n",
      "Soldier #8 in position!\n",
      "Soldier #9 in position!\n",
      "Soldier #10 in position!\n",
      "March!\n"
     ]
    }
   ],
   "source": [
    "def message():\n",
    "    print('March!')\n",
    "\n",
    "    \n",
    "def in_position(barrier):\n",
    "    print(f'{threading.current_thread().name} in position!')\n",
    "    barrier.wait()\n",
    "    \n",
    "    \n",
    "militaries = 10\n",
    "formation = threading.Barrier(militaries, message)\n",
    "for n in range(militaries):\n",
    "    time.sleep(0.1)\n",
    "    threading.Thread(name=f'Soldier #{n + 1}', target=in_position, args=(formation,)).start()"
   ]
  },
  {
   "cell_type": "markdown",
   "metadata": {},
   "source": [
    "## Motorcyclist problem\n",
    "\n",
    "A front-end problem made with python.\n",
    "\n",
    "The Motorcycle model acts as a backend, where it gives the validations to the User model.\n",
    "\n",
    "Related link: https://youtu.be/aouDQ8caJYg?t=225"
   ]
  },
  {
   "cell_type": "code",
   "execution_count": 14,
   "metadata": {},
   "outputs": [
    {
     "name": "stderr",
     "output_type": "stream",
     "text": [
      "[MainThread]: [08:00, 08:30]\n",
      "[MainThread]: [08:00, 08:30]\n",
      "[User 1]: Status (08:00): White\n",
      "[User 1]: Status (08:00): White\n",
      "[User 1]: Amount (08:00): 2\n",
      "[User 1]: Amount (08:00): 2\n",
      "[User 1]: Status (08:30): White\n",
      "[User 1]: Status (08:30): White\n",
      "[User 1]: Amount (08:30): 2\n",
      "[User 1]: Amount (08:30): 2\n",
      "[User 1]: Get Motorcyclist #0 (08:00)\n",
      "[User 1]: Get Motorcyclist #0 (08:00)\n",
      "[User 1]: Status (08:00): Green\n",
      "[User 1]: Status (08:00): Green\n",
      "[User 1]: Amount (08:00): 1\n",
      "[User 1]: Amount (08:00): 1\n",
      "[User 1]: Status (08:30): White\n",
      "[User 1]: Status (08:30): White\n",
      "[User 1]: Amount (08:30): 2\n",
      "[User 1]: Amount (08:30): 2\n",
      "[User 2]: Status (08:00): White\n",
      "[User 2]: Status (08:00): White\n",
      "[User 2]: Amount (08:00): 1\n",
      "[User 2]: Amount (08:00): 1\n",
      "[User 2]: Status (08:30): White\n",
      "[User 2]: Status (08:30): White\n",
      "[User 2]: Amount (08:30): 2\n",
      "[User 2]: Amount (08:30): 2\n",
      "[User 2]: Get Motorcyclist #1 (08:00)\n",
      "[User 2]: Get Motorcyclist #1 (08:00)\n",
      "[User 2]: Status (08:00): Green\n",
      "[User 2]: Status (08:00): Green\n",
      "[User 2]: Amount (08:00): 0\n",
      "[User 2]: Amount (08:00): 0\n",
      "[User 2]: Status (08:30): White\n",
      "[User 2]: Status (08:30): White\n",
      "[User 2]: Amount (08:30): 2\n",
      "[User 2]: Amount (08:30): 2\n",
      "[User 2]: Get Motorcyclist #0 (08:30)\n",
      "[User 2]: Get Motorcyclist #0 (08:30)\n",
      "[User 2]: Status (08:00): Green\n",
      "[User 2]: Status (08:00): Green\n",
      "[User 2]: Amount (08:00): 0\n",
      "[User 2]: Amount (08:00): 0\n",
      "[User 2]: Status (08:30): Green\n",
      "[User 2]: Status (08:30): Green\n",
      "[User 2]: Amount (08:30): 1\n",
      "[User 2]: Amount (08:30): 1\n",
      "[User 3]: Status (08:00): Red\n",
      "[User 3]: Status (08:00): Red\n",
      "[User 3]: Amount (08:00): 0\n",
      "[User 3]: Amount (08:00): 0\n",
      "[User 3]: Status (08:30): White\n",
      "[User 3]: Status (08:30): White\n",
      "[User 3]: Amount (08:30): 1\n",
      "[User 3]: Amount (08:30): 1\n",
      "[User 3]: Invalid action\n",
      "[User 3]: Invalid action\n",
      "[User 3]: Status (08:00): Red\n",
      "[User 3]: Status (08:00): Red\n",
      "[User 3]: Amount (08:00): 0\n",
      "[User 3]: Amount (08:00): 0\n",
      "[User 3]: Status (08:30): White\n",
      "[User 3]: Status (08:30): White\n",
      "[User 3]: Amount (08:30): 1\n",
      "[User 3]: Amount (08:30): 1\n",
      "[User 4]: Status (08:00): Red\n",
      "[User 4]: Status (08:00): Red\n",
      "[User 4]: Amount (08:00): 0\n",
      "[User 4]: Amount (08:00): 0\n",
      "[User 4]: Status (08:30): White\n",
      "[User 4]: Status (08:30): White\n",
      "[User 4]: Amount (08:30): 1\n",
      "[User 4]: Amount (08:30): 1\n",
      "[User 1]: Get Motorcyclist #1 (08:30)\n",
      "[User 1]: Get Motorcyclist #1 (08:30)\n",
      "[User 1]: Status (08:00): Green\n",
      "[User 1]: Status (08:00): Green\n",
      "[User 1]: Amount (08:00): 0\n",
      "[User 1]: Amount (08:00): 0\n",
      "[User 1]: Status (08:30): Green\n",
      "[User 1]: Status (08:30): Green\n",
      "[User 1]: Amount (08:30): 0\n",
      "[User 1]: Amount (08:30): 0\n",
      "[User 1]: Released Motorcyclist #0 (08:00)\n",
      "[User 1]: Released Motorcyclist #0 (08:00)\n",
      "[User 1]: Status (08:00): White\n",
      "[User 1]: Status (08:00): White\n",
      "[User 1]: Amount (08:00): 1\n",
      "[User 1]: Amount (08:00): 1\n",
      "[User 1]: Status (08:30): Green\n",
      "[User 1]: Status (08:30): Green\n",
      "[User 1]: Amount (08:30): 0\n",
      "[User 1]: Amount (08:30): 0\n"
     ]
    }
   ],
   "source": [
    "import collections\n",
    "import datetime\n",
    "import logging\n",
    "import queue\n",
    "import threading\n",
    "import time\n",
    "\n",
    "logger = logging.getLogger()\n",
    "logger.setLevel(logging.DEBUG)\n",
    "handler = logging.StreamHandler()\n",
    "handler.setFormatter(logging.Formatter('[%(threadName)s]: %(message)s'))\n",
    "logger.addHandler(handler)\n",
    "\n",
    "AVAILABLE = 0\n",
    "CONTRACTED = 1\n",
    "EMPTY = 2\n",
    "\n",
    "\n",
    "class MotorcyclistsGroup:\n",
    "\n",
    "    def __init__(self, amount, minutes):\n",
    "        date = datetime.datetime(1, 1, 1) + datetime.timedelta(minutes=minutes)\n",
    "        self.hour = date.hour\n",
    "        self.minutes = date.minute\n",
    "\n",
    "        self.availables = queue.Queue(amount)\n",
    "        for n in range(amount):\n",
    "            self.availables.put(f'Motorcyclist #{n} ({self})')\n",
    "\n",
    "        self.users = {}\n",
    "        self.users_lock = threading.Lock()\n",
    "\n",
    "    def __repr__(self):\n",
    "        return str(self)\n",
    "\n",
    "    def __str__(self):\n",
    "        return f'{self.hour:0>2}:{self.minutes:0>2}'\n",
    "        \n",
    "    def is_empty(self):\n",
    "        return self.availables.empty()\n",
    "\n",
    "    def count(self):\n",
    "        return self.availables.qsize()\n",
    "\n",
    "    def toggle(self):\n",
    "        thread_name = threading.current_thread().name\n",
    "        with self.users_lock:\n",
    "            status = self.check_status()\n",
    "            if status == CONTRACTED:\n",
    "                data = self.users.pop(thread_name)\n",
    "                self.availables.put(data)\n",
    "                return f'Released {data}'\n",
    "            elif status == AVAILABLE:\n",
    "                data = self.availables.get()\n",
    "                self.users[thread_name] = data\n",
    "                return f'Get {data}'\n",
    "            return 'Invalid action'\n",
    "\n",
    "    def check_status(self):\n",
    "        if threading.current_thread().name in self.users:\n",
    "            return CONTRACTED\n",
    "        elif self.is_empty():\n",
    "            return EMPTY\n",
    "        return AVAILABLE\n",
    "\n",
    "\n",
    "class User:\n",
    "\n",
    "    def __init__(self):\n",
    "        self.contracted_schedules = collections.defaultdict(lambda: None)\n",
    "\n",
    "    def click(self, schedule):\n",
    "        data = schedule.toggle()\n",
    "        self.contracted_schedules[schedule] = data\n",
    "        return data\n",
    "\n",
    "\n",
    "def check(schedule):\n",
    "    status = {\n",
    "        AVAILABLE: 'White',\n",
    "        CONTRACTED: 'Green',\n",
    "        EMPTY: 'Red',\n",
    "    }\n",
    "    logger.info('Status (%(schedule)s): %(status)s', {'schedule': schedule, 'status': status[schedule.check_status()]})\n",
    "    logger.info('Amount (%(schedule)s): %(count)s' , {'schedule': schedule, 'count': schedule.count()})\n",
    "\n",
    "\n",
    "def user_1_actions(motorcyclists):\n",
    "    user = User()\n",
    "\n",
    "    check(motorcyclists[0])\n",
    "    check(motorcyclists[1])\n",
    "\n",
    "    logger.info(user.click(motorcyclists[0]))\n",
    "    check(motorcyclists[0])\n",
    "    check(motorcyclists[1])\n",
    "\n",
    "    time.sleep(4)\n",
    "\n",
    "    logger.info(user.click(motorcyclists[1]))\n",
    "    check(motorcyclists[0])\n",
    "    check(motorcyclists[1])\n",
    "    \n",
    "    logger.info(user.click(motorcyclists[0]))\n",
    "    check(motorcyclists[0])\n",
    "    check(motorcyclists[1])\n",
    "\n",
    "\n",
    "def user_2_actions(motorcyclists):\n",
    "    user = User()\n",
    "\n",
    "    time.sleep(1)\n",
    "\n",
    "    check(motorcyclists[0])\n",
    "    check(motorcyclists[1])\n",
    "\n",
    "    logger.info(user.click(motorcyclists[0]))\n",
    "    check(motorcyclists[0])\n",
    "    check(motorcyclists[1])\n",
    "\n",
    "    logger.info(user.click(motorcyclists[1]))\n",
    "    check(motorcyclists[0])\n",
    "    check(motorcyclists[1])\n",
    "\n",
    "\n",
    "def user_3_actions(motorcyclists):\n",
    "    user = User()\n",
    "\n",
    "    time.sleep(2)\n",
    "\n",
    "    check(motorcyclists[0])\n",
    "    check(motorcyclists[1])\n",
    "    \n",
    "    logger.info(user.click(motorcyclists[0]))\n",
    "    check(motorcyclists[0])\n",
    "    check(motorcyclists[1])\n",
    "\n",
    "\n",
    "def user_4_actions(motorcyclists):\n",
    "    user = User()\n",
    "\n",
    "    time.sleep(3)\n",
    "\n",
    "    check(motorcyclists[0])\n",
    "    check(motorcyclists[1])\n",
    "\n",
    "\n",
    "motorciclists_amount = 3  # Default 8\n",
    "intervals = 2  # Default 25\n",
    "motorcyclists = [MotorcyclistsGroup(2, 480 + 30 * n) for n in range(intervals)]\n",
    "logger.info(motorcyclists)\n",
    "user_1 = threading.Thread(name='User 1', target=user_1_actions, args=(motorcyclists,))\n",
    "user_2 = threading.Thread(name='User 2', target=user_2_actions, args=(motorcyclists,))\n",
    "user_3 = threading.Thread(name='User 3', target=user_3_actions, args=(motorcyclists,))\n",
    "user_4 = threading.Thread(name='User 4', target=user_4_actions, args=(motorcyclists,))\n",
    "users = [user_1, user_2, user_3, user_4]\n",
    "for user in users:\n",
    "    user.start()\n",
    "for user in users:\n",
    "    user.join()"
   ]
  },
  {
   "cell_type": "code",
   "execution_count": null,
   "metadata": {},
   "outputs": [],
   "source": []
  }
 ],
 "metadata": {
  "kernelspec": {
   "display_name": "Python 3",
   "language": "python",
   "name": "python3"
  },
  "language_info": {
   "codemirror_mode": {
    "name": "ipython",
    "version": 3
   },
   "file_extension": ".py",
   "mimetype": "text/x-python",
   "name": "python",
   "nbconvert_exporter": "python",
   "pygments_lexer": "ipython3",
   "version": "3.8.6"
  }
 },
 "nbformat": 4,
 "nbformat_minor": 4
}
