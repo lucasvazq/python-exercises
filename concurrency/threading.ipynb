{
 "cells": [
  {
   "cell_type": "markdown",
   "metadata": {},
   "source": [
    "## Threading\n",
    "\n",
    "Readings:\n",
    "- https://docs.python.org/es/3/library/threading.html\n",
    "- https://www.educative.io/edpresso/what-are-locks-in-python\n",
    "- https://www.bogotobogo.com/python/Multithread/python_multithreading_Using_Locks_with_statement_Context_Manager.php"
   ]
  },
  {
   "cell_type": "markdown",
   "metadata": {},
   "source": [
    "## Basic methods to get info of the threads"
   ]
  },
  {
   "cell_type": "code",
   "execution_count": 1,
   "metadata": {},
   "outputs": [
    {
     "name": "stdout",
     "output_type": "stream",
     "text": [
      "================= without thread =================\n",
      "thread: <_MainThread(MainThread, started 140695987791680)> - 5\n",
      "\n",
      "dir:\n",
      "['__class__', '__delattr__', '__dict__', '__dir__', '__doc__', '__eq__', '__format__', '__ge__', '__getattribute__', '__gt__', '__hash__', '__init__', '__init_subclass__', '__le__', '__lt__', '__module__', '__ne__', '__new__', '__reduce__', '__reduce_ex__', '__repr__', '__setattr__', '__sizeof__', '__str__', '__subclasshook__', '__weakref__', '_args', '_bootstrap', '_bootstrap_inner', '_daemonic', '_delete', '_ident', '_initialized', '_invoke_excepthook', '_is_stopped', '_kwargs', '_name', '_native_id', '_reset_internal_locks', '_set_ident', '_set_native_id', '_set_tstate_lock', '_started', '_stderr', '_stop', '_target', '_tstate_lock', '_wait_for_tstate_lock', 'daemon', 'getName', 'ident', 'isAlive', 'isDaemon', 'is_alive', 'join', 'name', 'native_id', 'run', 'setDaemon', 'setName', 'start']\n",
      "\n",
      "dict:\n",
      "{'_target': None, '_name': 'MainThread', '_args': (), '_kwargs': {}, '_daemonic': False, '_ident': 140695987791680, '_native_id': 7383, '_tstate_lock': <locked _thread.lock object at 0x7ff655ddf540>, '_started': <threading.Event object at 0x7ff655ddf310>, '_is_stopped': False, '_initialized': True, '_stderr': <_io.TextIOWrapper name='<stderr>' mode='w' encoding='utf-8'>, '_invoke_excepthook': <function _make_invoke_excepthook.<locals>.invoke_excepthook at 0x7ff655de3430>}\n",
      "\n",
      "================== with thread ===================\n",
      "thread: <MyThread(CustomName, started 140695645959744)> - 6\n",
      "\n",
      "dir:\n",
      "['__class__', '__delattr__', '__dict__', '__dir__', '__doc__', '__eq__', '__format__', '__ge__', '__getattribute__', '__gt__', '__hash__', '__init__', '__init_subclass__', '__le__', '__lt__', '__module__', '__ne__', '__new__', '__reduce__', '__reduce_ex__', '__repr__', '__setattr__', '__sizeof__', '__str__', '__subclasshook__', '__weakref__', '_args', '_bootstrap', '_bootstrap_inner', '_daemonic', '_delete', '_ident', '_initialized', '_invoke_excepthook', '_is_stopped', '_kwargs', '_name', '_native_id', '_reset_internal_locks', '_set_ident', '_set_native_id', '_set_tstate_lock', '_started', '_stderr', '_stop', '_target', '_tstate_lock', '_wait_for_tstate_lock', 'daemon', 'getName', 'ident', 'isAlive', 'isDaemon', 'is_alive', 'join', 'name', 'native_id', 'run', 'setDaemon', 'setName', 'start']\n",
      "\n",
      "dict:\n",
      "{'_target': <function print_thread at 0x7ff65019e0d0>, '_name': 'CustomName', '_args': (1,), '_kwargs': {'number': 2}, '_daemonic': False, '_ident': 140695645959744, '_native_id': 7399, '_tstate_lock': <locked _thread.lock object at 0x7ff6501e3ea0>, '_started': <threading.Event object at 0x7ff6501a51c0>, '_is_stopped': False, '_initialized': True, '_stderr': <ipykernel.iostream.OutStream object at 0x7ff652257760>, '_invoke_excepthook': <function _make_invoke_excepthook.<locals>.invoke_excepthook at 0x7ff65019ea60>}\n",
      "\n",
      "excepthook:\n",
      "arg: _thread.ExceptHookArgs(exc_type=<class 'Exception'>, exc_value=Exception(), exc_traceback=<traceback object at 0x7ff6501a38c0>, thread=<MyThread(CustomName, started 140695645959744)>)\n",
      "\n",
      "================ list of threads =================\n",
      "[<_MainThread(MainThread, started 140695987791680)>, <Thread(Thread-2, started daemon 140695899694656)>, <Heartbeat(Thread-3, started daemon 140695891301952)>, <HistorySavingThread(IPythonHistorySavingThread, started 140695662745152)>, <ParentPollerUnix(Thread-1, started daemon 140695654352448)>]\n",
      "\n",
      "===================== frame ======================\n",
      "<frame at 0x7ff6501a7550, file '/home/lucasvazq/.local/lib/python3.8/site-packages/zmq/sugar/context.py', line 163, code _rm_socket>\n",
      "['__class__', '__delattr__', '__dir__', '__doc__', '__eq__', '__format__', '__ge__', '__getattribute__', '__gt__', '__hash__', '__init__', '__init_subclass__', '__le__', '__lt__', '__ne__', '__new__', '__reduce__', '__reduce_ex__', '__repr__', '__setattr__', '__sizeof__', '__str__', '__subclasshook__', 'clear', 'f_back', 'f_builtins', 'f_code', 'f_globals', 'f_lasti', 'f_lineno', 'f_locals', 'f_trace', 'f_trace_lines', 'f_trace_opcodes']\n"
     ]
    }
   ],
   "source": [
    "import random\n",
    "import time\n",
    "import threading\n",
    "from threading import excepthook as original_excepthook\n",
    "\n",
    "\n",
    "def print_thread(*args, **kwargs):\n",
    "    current_thread = threading.current_thread()\n",
    "    print(f\"thread: {current_thread} - {threading.active_count()}\\n\")\n",
    "    print(f\"dir:\\n{dir(current_thread)}\\n\")\n",
    "    print(f\"dict:\\n{current_thread.__dict__}\\n\")\n",
    "    if current_thread._name == 'CustomName':\n",
    "        raise Exception\n",
    "\n",
    "def excepthook(arg):\n",
    "    print('excepthook:')\n",
    "    print(f'arg: {arg}')\n",
    "\n",
    "class MyThread(threading.Thread):\n",
    "    def __init__(self, *args, **kwargs):\n",
    "        super().__init__(*args, **kwargs)\n",
    "\n",
    "frame = None\n",
    "def func(*args):\n",
    "    global frame\n",
    "    frame = args[0]\n",
    "\n",
    "def profile(frame, event, arg):\n",
    "    # print(f'{frame!r} {event!r} {arg!r}')\n",
    "    pass\n",
    "\n",
    "threading.settrace(func)\n",
    "threading.setprofile(profile)\n",
    "threading.excepthook = excepthook\n",
    "\n",
    "print(f'{\" without thread \":=^50}')\n",
    "print_thread(1, number=1)\n",
    "\n",
    "print(f'{\" with thread \":=^50}')\n",
    "\n",
    "thread = MyThread(name='CustomName', target=print_thread, args=(1,), kwargs={'number': 2})\n",
    "thread.start()\n",
    "thread.join()\n",
    "\n",
    "print(f'\\n{\" list of threads \":=^50}')\n",
    "print(threading.enumerate())\n",
    "\n",
    "print(f'\\n{\" frame \":=^50}')\n",
    "print(frame)\n",
    "print(dir(frame))\n",
    "\n",
    "threading.excepthook = original_excepthook"
   ]
  },
  {
   "cell_type": "markdown",
   "metadata": {},
   "source": [
    "## Locks"
   ]
  },
  {
   "cell_type": "markdown",
   "metadata": {},
   "source": [
    "### Thread without lock"
   ]
  },
  {
   "cell_type": "code",
   "execution_count": 2,
   "metadata": {},
   "outputs": [
    {
     "name": "stdout",
     "output_type": "stream",
     "text": [
      "1104300\n"
     ]
    }
   ],
   "source": [
    "class Customer:\n",
    "    def __init__(self, money):\n",
    "        self.money = money\n",
    "    def reduce(self, amount):\n",
    "        self.money -= amount\n",
    "    def increment(self, amount):\n",
    "        self.money += amount\n",
    "\n",
    "def repeat_function(times, function, args):\n",
    "    for _ in range(times):\n",
    "        function(args)\n",
    "\n",
    "customer = Customer(100)\n",
    "\n",
    "thread_1 = threading.Thread(target=repeat_function, args=(1000000, customer.reduce, 100))\n",
    "thread_2 = threading.Thread(target=repeat_function, args=(1000000, customer.increment, 100))\n",
    "thread_1.start()\n",
    "thread_2.start()\n",
    "thread_1.join()\n",
    "thread_2.join()\n",
    "print(customer.money)"
   ]
  },
  {
   "cell_type": "markdown",
   "metadata": {},
   "source": [
    "### Thread with lock"
   ]
  },
  {
   "cell_type": "markdown",
   "metadata": {},
   "source": [
    "Same lock for differents tasks"
   ]
  },
  {
   "cell_type": "code",
   "execution_count": 3,
   "metadata": {},
   "outputs": [
    {
     "name": "stdout",
     "output_type": "stream",
     "text": [
      "100\n"
     ]
    }
   ],
   "source": [
    "class Customer:\n",
    "    def __init__(self, money):\n",
    "        self.money = money\n",
    "        self.lock = threading.Lock()\n",
    "    def reduce(self, amount):\n",
    "        with self.lock:\n",
    "            self.money -= amount\n",
    "    def increment(self, amount):\n",
    "        with self.lock:\n",
    "            self.money += amount\n",
    "\n",
    "def repeat_function(times, function, args):\n",
    "    for _ in range(times):\n",
    "        function(args)\n",
    "\n",
    "customer = Customer(100)\n",
    "\n",
    "thread_1 = threading.Thread(target=repeat_function, args=(1000000, customer.reduce, 100))\n",
    "thread_2 = threading.Thread(target=repeat_function, args=(1000000, customer.increment, 100))\n",
    "thread_1.start()\n",
    "thread_2.start()\n",
    "thread_1.join()\n",
    "thread_2.join()\n",
    "print(customer.money)"
   ]
  },
  {
   "cell_type": "markdown",
   "metadata": {},
   "source": [
    "Different locks for differents tasks"
   ]
  },
  {
   "cell_type": "code",
   "execution_count": 4,
   "metadata": {},
   "outputs": [
    {
     "name": "stdout",
     "output_type": "stream",
     "text": [
      "380800\n"
     ]
    }
   ],
   "source": [
    "class Customer:\n",
    "    def __init__(self, money):\n",
    "        self.money = money\n",
    "        self.lock_reduce = threading.Lock()\n",
    "        self.lock_increment = threading.Lock()\n",
    "    def reduce(self, amount):\n",
    "        with self.lock_reduce:\n",
    "            self.money -= amount\n",
    "    def increment(self, amount):\n",
    "        with self.lock_increment:\n",
    "            self.money += amount\n",
    "\n",
    "def repeat_function(times, function, args):\n",
    "    for _ in range(times):\n",
    "        function(args)\n",
    "\n",
    "customer = Customer(100)\n",
    "\n",
    "thread_1 = threading.Thread(target=repeat_function, args=(1000000, customer.reduce, 100))\n",
    "thread_2 = threading.Thread(target=repeat_function, args=(1000000, customer.increment, 100))\n",
    "thread_1.start()\n",
    "thread_2.start()\n",
    "thread_1.join()\n",
    "thread_2.join()\n",
    "print(customer.money)"
   ]
  },
  {
   "cell_type": "markdown",
   "metadata": {},
   "source": [
    "With lock but without custom thread"
   ]
  },
  {
   "cell_type": "code",
   "execution_count": 6,
   "metadata": {},
   "outputs": [
    {
     "name": "stdout",
     "output_type": "stream",
     "text": [
      "100\n"
     ]
    }
   ],
   "source": [
    "class Customer:\n",
    "    def __init__(self, money):\n",
    "        self.money = money\n",
    "        self.lock = threading.Lock()\n",
    "    def reduce(self, amount):\n",
    "        with self.lock:\n",
    "            self.money -= amount\n",
    "    def increment(self, amount):\n",
    "        with self.lock:\n",
    "            self.money += amount\n",
    "\n",
    "def repeat_function(times, function, args):\n",
    "    for _ in range(times):\n",
    "        function(args)\n",
    "\n",
    "customer = Customer(100)\n",
    "\n",
    "repeat_function(1000000, customer.reduce, 100)\n",
    "repeat_function(1000000, customer.increment, 100)\n",
    "print(customer.money)"
   ]
  },
  {
   "cell_type": "markdown",
   "metadata": {},
   "source": [
    "### Recursion using RLock"
   ]
  },
  {
   "cell_type": "code",
   "execution_count": 7,
   "metadata": {},
   "outputs": [
    {
     "name": "stdout",
     "output_type": "stream",
     "text": [
      "120\n"
     ]
    }
   ],
   "source": [
    "class Factorial:\n",
    "    value = 1\n",
    "    \n",
    "    def __init__(self):\n",
    "        self.lock = threading.RLock()\n",
    "    \n",
    "    def set_factorial(self, n):\n",
    "        with self.lock:\n",
    "            if n > 1:\n",
    "                self.value *= n\n",
    "                self.set_factorial(n - 1)\n",
    "\n",
    "\n",
    "factorial = Factorial()\n",
    "thread = threading.Thread(target=factorial.set_factorial, args=(5,))\n",
    "thread.start()\n",
    "thread.join()\n",
    "print(factorial.value)"
   ]
  },
  {
   "cell_type": "markdown",
   "metadata": {},
   "source": [
    "## Conditions\n",
    "\n",
    "Solving https://es.stackoverflow.com/questions/404798/python-threading-condition"
   ]
  },
  {
   "cell_type": "code",
   "execution_count": 8,
   "metadata": {},
   "outputs": [
    {
     "name": "stdout",
     "output_type": "stream",
     "text": [
      "Thread-11 - esperando el vaso\n",
      "Thread-12 - esperando el vaso\n",
      "Thread-13 - esperando el vaso\n",
      "Thread-14 - esperando el vaso\n",
      "Thread-15 - esperando el vaso\n",
      "MainThread - vaso habilitado\n",
      "Thread-11 - comenzó a beber\n",
      "Thread-11 - terminó de beber\n",
      "Thread-12 - comenzó a beber\n",
      "Thread-12 - terminó de beber\n",
      "Thread-13 - comenzó a beber\n",
      "Thread-13 - terminó de beber\n",
      "Thread-14 - comenzó a beber\n",
      "Thread-14 - terminó de beber\n",
      "Thread-15 - comenzó a beber\n",
      "Thread-15 - terminó de beber\n"
     ]
    }
   ],
   "source": [
    "class Cocina:\n",
    "\n",
    "    def __init__(self):\n",
    "        self.condition = threading.Condition()\n",
    "        self.vaso_ocupado = True\n",
    "\n",
    "    def __beber_del_vaso(self):\n",
    "        \"\"\"\n",
    "        Ponemos el vaso como ocupado y simulamos que\n",
    "        se está bebiendo de él.\n",
    "        Cuando se termina, notificamos al siguiente hilo\n",
    "        en la cola.\n",
    "        \"\"\"\n",
    "        self.vaso_ocupado = True\n",
    "        self.print('comenzó a beber')\n",
    "        time.sleep(int(random.randint(1, 3)))  # reduce time from 10 to 3\n",
    "        self.print('terminó de beber')\n",
    "        self.vaso_ocupado = False\n",
    "        self.condition.notify()\n",
    "        self.condition.release()\n",
    "\n",
    "    @staticmethod\n",
    "    def print(msg):\n",
    "        print(f'{threading.current_thread().name} - {msg}')\n",
    "\n",
    "    def esperando_el_vaso(self):\n",
    "        \"\"\"\n",
    "        Se unen las instancias a un estado de espera,\n",
    "        donde, cuando sean notificadas, recién podrán\n",
    "        beber del vaso.\n",
    "        \"\"\"\n",
    "        self.condition.acquire()\n",
    "        while self.vaso_ocupado:\n",
    "            self.print('esperando el vaso')\n",
    "            self.condition.wait()\n",
    "        self.__beber_del_vaso()\n",
    "\n",
    "    def habilitar_vaso(self):\n",
    "        \"\"\"\n",
    "        Notificamos a los hilos que se encuentran en espera,\n",
    "        de que el vaso ya está disponible.\n",
    "        \"\"\"\n",
    "        self.print('vaso habilitado')\n",
    "        self.condition.acquire()\n",
    "        self.vaso_ocupado = False\n",
    "        self.condition.notify()\n",
    "        self.condition.release()\n",
    "\n",
    "        \n",
    "cocina = Cocina()\n",
    "threads = []\n",
    "for _ in range(5):  # reduce threads from 20 to 5\n",
    "    thread = threading.Thread(target=cocina.esperando_el_vaso)\n",
    "    thread.start()\n",
    "    threads.append(thread)\n",
    "time.sleep(5)  # wait some seconds before making the `vaso` available\n",
    "cocina.habilitar_vaso()"
   ]
  },
  {
   "cell_type": "markdown",
   "metadata": {},
   "source": [
    "## Semaphore"
   ]
  },
  {
   "cell_type": "code",
   "execution_count": 11,
   "metadata": {},
   "outputs": [
    {
     "name": "stdout",
     "output_type": "stream",
     "text": [
      "False\n",
      "False\n",
      "Exception caught\n"
     ]
    }
   ],
   "source": [
    "class Restaurant:\n",
    "    def __init__(self, amount_of_chairs):\n",
    "        self.chairs_available = threading.BoundedSemaphore(amount_of_chairs)\n",
    "\n",
    "    def can_reserve(self, amount_of_chairs):\n",
    "        return self.chairs_available._value - amount_of_chairs >= 0\n",
    "\n",
    "    def reserve(self, amount_of_chairs):\n",
    "        if self.can_reserve(amount_of_chairs):\n",
    "            for _ in range(amount_of_chairs):\n",
    "                self.chairs_available.acquire()\n",
    "            return True\n",
    "        return False\n",
    "\n",
    "    def cancel_reserve(self, amount_of_chairs):\n",
    "        for _ in range(amount_of_chairs):\n",
    "            self.chairs_available.release()\n",
    "\n",
    "\n",
    "Tres56 = Restaurant(50)\n",
    "Tres56.reserve(50)\n",
    "print(Tres56.can_reserve(1))\n",
    "print(Tres56.reserve(1))\n",
    "\n",
    "Tres56.cancel_reserve(50)\n",
    "try:\n",
    "    Tres56.cancel_reserve(1)\n",
    "except ValueError:\n",
    "    print('Exception caught')\n"
   ]
  },
  {
   "cell_type": "markdown",
   "metadata": {},
   "source": [
    "## Events"
   ]
  },
  {
   "cell_type": "code",
   "execution_count": 14,
   "metadata": {},
   "outputs": [
    {
     "name": "stdout",
     "output_type": "stream",
     "text": [
      "A - waiting for the semaphore\n",
      "B - waiting for the semaphore\n",
      "C - waiting for the semaphore\n",
      "A - proceed over the avenue\n",
      "B - proceed over the avenue\n",
      "C - proceed over the avenue\n",
      "D - proceed over the avenue\n",
      "E - proceed over the avenue\n",
      "F - proceed over the avenue\n"
     ]
    }
   ],
   "source": [
    "class AvenueSemaphore:\n",
    "    def __init__(self):\n",
    "        self.semaphore = threading.Event()\n",
    "    def transit_the_avenue(self):\n",
    "        if not self.semaphore.is_set():\n",
    "            print(f'{threading.current_thread().name} - waiting for the semaphore')\n",
    "            self.semaphore.wait()\n",
    "        print(f'{threading.current_thread().name} - proceed over the avenue')\n",
    "\n",
    "BvGLehmann = AvenueSemaphore()\n",
    "BvGLehmann.semaphore.clear()\n",
    "for identification in ('A', 'B', 'C'):\n",
    "    time.sleep(0.1)\n",
    "    threading.Thread(name=identification, target=BvGLehmann.transit_the_avenue).start()\n",
    "time.sleep(1)\n",
    "BvGLehmann.semaphore.set()\n",
    "for identification in ('D', 'E', 'F'):\n",
    "    time.sleep(0.1)\n",
    "    threading.Thread(name=identification, target=BvGLehmann.transit_the_avenue).start()"
   ]
  },
  {
   "cell_type": "markdown",
   "metadata": {},
   "source": [
    "## Timer"
   ]
  },
  {
   "cell_type": "code",
   "execution_count": 15,
   "metadata": {},
   "outputs": [
    {
     "name": "stdout",
     "output_type": "stream",
     "text": [
      "message\n"
     ]
    }
   ],
   "source": [
    "def message():\n",
    "    print('message')\n",
    "\n",
    "timer = threading.Timer(1, message)\n",
    "timer.start()\n",
    "time.sleep(2)\n",
    "timer.cancel()\n",
    "\n",
    "timer = threading.Timer(2, message)\n",
    "timer.start()\n",
    "time.sleep(1)\n",
    "timer.cancel()"
   ]
  },
  {
   "cell_type": "markdown",
   "metadata": {},
   "source": [
    "## Barrier"
   ]
  },
  {
   "cell_type": "code",
   "execution_count": 20,
   "metadata": {},
   "outputs": [
    {
     "name": "stdout",
     "output_type": "stream",
     "text": [
      "Soldier #1 in position!\n",
      "Soldier #2 in position!\n",
      "Soldier #3 in position!\n",
      "Soldier #4 in position!\n",
      "Soldier #5 in position!\n",
      "Soldier #6 in position!\n",
      "Soldier #7 in position!\n",
      "Soldier #8 in position!\n",
      "Soldier #9 in position!\n",
      "Soldier #10 in position!\n",
      "March!\n"
     ]
    }
   ],
   "source": [
    "def message():\n",
    "    print('March!')\n",
    "\n",
    "def in_position(barrier):\n",
    "    print(f'{threading.current_thread().name} in position!')\n",
    "    barrier.wait()\n",
    "    \n",
    "militaries = 10\n",
    "formation = threading.Barrier(militaries, message)\n",
    "for n in range(militaries):\n",
    "    time.sleep(0.1)\n",
    "    threading.Thread(name=f'Soldier #{n + 1}', target=in_position, args=(formation,)).start()\n"
   ]
  }
 ],
 "metadata": {
  "kernelspec": {
   "display_name": "Python 3",
   "language": "python",
   "name": "python3"
  },
  "language_info": {
   "codemirror_mode": {
    "name": "ipython",
    "version": 3
   },
   "file_extension": ".py",
   "mimetype": "text/x-python",
   "name": "python",
   "nbconvert_exporter": "python",
   "pygments_lexer": "ipython3",
   "version": "3.8.6"
  }
 },
 "nbformat": 4,
 "nbformat_minor": 4
}
