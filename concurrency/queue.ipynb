{
 "cells": [
  {
   "cell_type": "markdown",
   "metadata": {},
   "source": [
    "# queue\n",
    "\n",
    "Readings:\n",
    " - https://docs.python.org/3/library/queue.html"
   ]
  },
  {
   "cell_type": "markdown",
   "metadata": {},
   "source": [
    "## Basic Setup"
   ]
  },
  {
   "cell_type": "code",
   "execution_count": 1,
   "metadata": {},
   "outputs": [],
   "source": [
    "import concurrent.futures\n",
    "import logging\n",
    "import queue\n",
    "import threading\n",
    "import time\n",
    "\n",
    "logger = logging.getLogger()\n",
    "logger.setLevel(logging.DEBUG)\n",
    "handler = logging.StreamHandler()\n",
    "handler.setFormatter(logging.Formatter('[%(threadName)s]: %(message)s'))\n",
    "logger.addHandler(handler)"
   ]
  },
  {
   "cell_type": "markdown",
   "metadata": {},
   "source": [
    "## Without blocking"
   ]
  },
  {
   "cell_type": "code",
   "execution_count": 2,
   "metadata": {},
   "outputs": [
    {
     "name": "stderr",
     "output_type": "stream",
     "text": [
      "[ThreadPoolExecutor-0_0]: Add 0\n",
      "[ThreadPoolExecutor-0_1]: Add 1\n",
      "[ThreadPoolExecutor-0_2]: Failed to put 2\n",
      "[ThreadPoolExecutor-0_3]: Failed to put 3\n",
      "[ThreadPoolExecutor-0_0]: Get 0\n",
      "[ThreadPoolExecutor-0_4]: Add 4\n",
      "[ThreadPoolExecutor-0_1]: Get 1\n",
      "[ThreadPoolExecutor-0_1]: Add 6\n",
      "[ThreadPoolExecutor-0_0]: Add 5\n",
      "[ThreadPoolExecutor-0_3]: Get 5\n",
      "[ThreadPoolExecutor-0_2]: Get 4\n",
      "[ThreadPoolExecutor-0_2]: Add 8\n",
      "[ThreadPoolExecutor-0_3]: Add 7\n",
      "[ThreadPoolExecutor-0_1]: Get 7\n",
      "[ThreadPoolExecutor-0_4]: Get 6\n",
      "[ThreadPoolExecutor-0_0]: Get 8\n",
      "[ThreadPoolExecutor-0_2]: Failed to get\n",
      "[ThreadPoolExecutor-0_1]: Add 9\n",
      "[ThreadPoolExecutor-0_3]: Get 9\n",
      "[ThreadPoolExecutor-0_1]: Failed to get\n",
      "[MainThread]: FIFO is empty? True\n"
     ]
    }
   ],
   "source": [
    "fifo = queue.Queue(2)\n",
    "\n",
    "\n",
    "def thread(n):\n",
    "    try:\n",
    "        fifo.put_nowait(n)\n",
    "    except queue.Full:\n",
    "        logger.info(\"Failed to put %(n)s\", {'n': n})\n",
    "    else:\n",
    "        logger.info(f'Add %(n)s', {'n': n})\n",
    "    time.sleep(0.001)\n",
    "    try:\n",
    "        logger.info(f'Get %(get)s', {'get': fifo.get_nowait()})\n",
    "    except queue.Empty:\n",
    "        logger.info(\"Failed to get\")\n",
    "\n",
    "\n",
    "with concurrent.futures.ThreadPoolExecutor(max_workers=5) as executor:\n",
    "     executor.map(thread, range(10))\n",
    "\n",
    "logger.info('FIFO is empty? %(is_empty)s', {'is_empty': fifo.empty()})"
   ]
  },
  {
   "cell_type": "markdown",
   "metadata": {},
   "source": [
    "## Blocking"
   ]
  },
  {
   "cell_type": "code",
   "execution_count": 3,
   "metadata": {},
   "outputs": [
    {
     "name": "stderr",
     "output_type": "stream",
     "text": [
      "[ThreadPoolExecutor-1_0]: Add 0\n",
      "[ThreadPoolExecutor-1_1]: Add 1\n",
      "[ThreadPoolExecutor-1_0]: Get 0\n",
      "[ThreadPoolExecutor-1_2]: Add 2\n",
      "[ThreadPoolExecutor-1_1]: Get 1\n",
      "[ThreadPoolExecutor-1_3]: Add 3\n",
      "[ThreadPoolExecutor-1_2]: Get 2\n",
      "[ThreadPoolExecutor-1_4]: Add 4\n",
      "[ThreadPoolExecutor-1_3]: Get 3\n",
      "[ThreadPoolExecutor-1_0]: Add 5\n",
      "[ThreadPoolExecutor-1_4]: Get 4\n",
      "[ThreadPoolExecutor-1_1]: Add 6\n",
      "[ThreadPoolExecutor-1_0]: Get 5\n",
      "[ThreadPoolExecutor-1_2]: Add 7\n",
      "[ThreadPoolExecutor-1_1]: Get 6\n",
      "[ThreadPoolExecutor-1_3]: Add 8\n",
      "[ThreadPoolExecutor-1_2]: Get 7\n",
      "[ThreadPoolExecutor-1_4]: Add 9\n",
      "[ThreadPoolExecutor-1_3]: Get 8\n",
      "[ThreadPoolExecutor-1_4]: Get 9\n",
      "[MainThread]: FIFO is empty? True\n"
     ]
    }
   ],
   "source": [
    "fifo = queue.Queue(2)\n",
    "\n",
    "\n",
    "def thread(n):\n",
    "    fifo.put(n)\n",
    "    logger.info(f'Add %(n)s', {'n': n})\n",
    "    time.sleep(0.001)\n",
    "    logger.info(f'Get %(get)s', {'get': fifo.get()})\n",
    "\n",
    "\n",
    "with concurrent.futures.ThreadPoolExecutor(max_workers=5) as executor:\n",
    "     executor.map(thread, range(10))\n",
    "\n",
    "logger.info('FIFO is empty? %(is_empty)s', {'is_empty': fifo.empty()})"
   ]
  },
  {
   "cell_type": "code",
   "execution_count": 4,
   "metadata": {},
   "outputs": [
    {
     "name": "stderr",
     "output_type": "stream",
     "text": [
      "[Thread-4]: Worker started\n",
      "[MainThread]: All task requests sent\n",
      "[Thread-4]: 0\n",
      "[Thread-4]: 1\n",
      "[Thread-4]: 2\n",
      "[Thread-4]: 3\n",
      "[Thread-4]: 4\n",
      "[Thread-4]: 5\n",
      "[Thread-4]: 6\n",
      "[Thread-4]: 7\n",
      "[Thread-4]: 8\n",
      "[Thread-4]: 9\n",
      "[Thread-4]: 10\n",
      "[Thread-4]: 11\n",
      "[Thread-4]: 12\n",
      "[Thread-4]: 13\n",
      "[Thread-4]: 14\n",
      "[Thread-4]: 15\n",
      "[Thread-4]: 16\n",
      "[Thread-4]: 17\n",
      "[Thread-4]: 18\n",
      "[Thread-4]: 19\n",
      "[Thread-4]: 20\n",
      "[Thread-4]: 21\n",
      "[Thread-4]: 22\n",
      "[Thread-4]: 23\n",
      "[Thread-4]: 24\n",
      "[Thread-4]: 25\n",
      "[Thread-4]: 26\n",
      "[Thread-4]: 27\n",
      "[Thread-4]: 28\n",
      "[Thread-4]: 29\n",
      "[MainThread]: All work completed\n"
     ]
    }
   ],
   "source": [
    "fifo = queue.Queue()\n",
    "\n",
    "def worker():\n",
    "    logger.info('Worker started')\n",
    "    while True:\n",
    "        logger.info('%(item)s', {'item': fifo.get()})\n",
    "        fifo.task_done()\n",
    "        \n",
    "threading.Thread(target=worker, daemon=True).start()\n",
    "\n",
    "for item in range(30):\n",
    "    fifo.put(item)\n",
    "logger.info('All task requests sent')\n",
    "\n",
    "fifo.join()\n",
    "logger.info('All work completed')"
   ]
  }
 ],
 "metadata": {
  "kernelspec": {
   "display_name": "Python 3",
   "language": "python",
   "name": "python3"
  },
  "language_info": {
   "codemirror_mode": {
    "name": "ipython",
    "version": 3
   },
   "file_extension": ".py",
   "mimetype": "text/x-python",
   "name": "python",
   "nbconvert_exporter": "python",
   "pygments_lexer": "ipython3",
   "version": "3.8.6"
  }
 },
 "nbformat": 4,
 "nbformat_minor": 4
}
