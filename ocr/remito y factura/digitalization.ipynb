{
 "metadata": {
  "language_info": {
   "codemirror_mode": {
    "name": "ipython",
    "version": 3
   },
   "file_extension": ".py",
   "mimetype": "text/x-python",
   "name": "python",
   "nbconvert_exporter": "python",
   "pygments_lexer": "ipython3",
   "version": "3.7.4-final"
  },
  "orig_nbformat": 2,
  "kernelspec": {
   "name": "python3",
   "display_name": "Python 3.7.4 64-bit",
   "metadata": {
    "interpreter": {
     "hash": "2d8a740277f67c33143a8e5c8e55f738530a350d8def4a85d8635b690074994c"
    }
   }
  }
 },
 "nbformat": 4,
 "nbformat_minor": 2,
 "cells": [
  {
   "source": [
    "# Receipts and invoices digitalization\n",
    "\n",
    "## Objetives\n",
    "Compare the data between the invoiced items and the received items\n",
    "\n",
    "## Requirements\n",
    "- [tesseract-ocr](https://github.com/tesseract-ocr/tesseract)\n",
    "- [pytesseract](https://pypi.org/project/pytesseract/)\n",
    "- [opencv-python](https://pypi.org/project/opencv-python/)\n",
    "- [matplotlib](https://matplotlib.org/)\n",
    "- [numpy](https://numpy.org/install/)\n",
    "\n",
    "## Pipeline"
   ],
   "cell_type": "markdown",
   "metadata": {}
  },
  {
   "source": [
    "### Setup\n",
    "\n",
    "Load the required libraries"
   ],
   "cell_type": "markdown",
   "metadata": {}
  },
  {
   "cell_type": "code",
   "execution_count": null,
   "metadata": {},
   "outputs": [],
   "source": [
    "import copy\n",
    "import json\n",
    "import re\n",
    "\n",
    "import cv2\n",
    "import pytesseract\n",
    "import numpy as np\n",
    "from matplotlib import pyplot as plt"
   ]
  },
  {
   "source": [
    "### Preprocessing\n",
    "\n",
    "Here we fix the image angle and apply some thresholding filter."
   ],
   "cell_type": "markdown",
   "metadata": {}
  },
  {
   "source": [
    "def get_angle(image):\n",
    "    thresh = get_thresholded_image(image)\n",
    "    coords = np.column_stack(np.where(thresh > 0))\n",
    "    angle = cv2.minAreaRect(coords)[-1]\n",
    "    return -(90 + angle) if angle < -45 else -angle\n",
    "\n",
    "def get_rotated_image(image, angle):\n",
    "    h, w = image.shape[:2]\n",
    "    center = w // 2, h // 2\n",
    "    matrix = cv2.getRotationMatrix2D(center, angle, 1.0)\n",
    "    return cv2.warpAffine(image, matrix, (w, h), flags=cv2.INTER_CUBIC, borderMode=cv2.BORDER_REPLICATE)\n",
    "\n",
    "def get_thresholded_image(image):\n",
    "    return cv2.adaptiveThreshold(image, 255, cv2.ADAPTIVE_THRESH_MEAN_C, cv2.THRESH_BINARY, 11, 11)\n"
   ],
   "cell_type": "code",
   "metadata": {},
   "execution_count": null,
   "outputs": []
  },
  {
   "source": [
    "### Text Detection"
   ],
   "cell_type": "markdown",
   "metadata": {}
  },
  {
   "cell_type": "code",
   "execution_count": null,
   "metadata": {},
   "outputs": [],
   "source": [
    "def get_detected_text(image):\n",
    "    marked_image = copy.deepcopy(image)\n",
    "    data = pytesseract.image_to_data(marked_image, output_type=pytesseract.Output.DICT, config=tesseract_config)\n",
    "    for i in range(len(data['level'])):\n",
    "        x, y, w, h = data['left'][i], data['top'][i], data['width'][i], data['height'][i]\n",
    "        marked_image = cv2.rectangle(marked_image, (x, y), (x + w, y + h), (0, 0, 255), 1)\n",
    "    return marked_image"
   ]
  },
  {
   "source": [
    "### Text Recognition"
   ],
   "cell_type": "markdown",
   "metadata": {}
  },
  {
   "cell_type": "code",
   "execution_count": null,
   "metadata": {},
   "outputs": [],
   "source": [
    "def get_text(image, **kwargs):\n",
    "    extracted_text = pytesseract.image_to_string(image, **kwargs)\n",
    "    return '\\n'.join(line for line in extracted_text.rsplit('\\n') if line.strip())"
   ]
  },
  {
   "source": [
    "### Implementation"
   ],
   "cell_type": "markdown",
   "metadata": {}
  },
  {
   "cell_type": "code",
   "execution_count": null,
   "metadata": {},
   "outputs": [],
   "source": [
    "# Basic config\n",
    "images = {\n",
    "    'invoice': 'invoice.jpg',\n",
    "    'receipt': 'receipt.jpg',\n",
    "}\n",
    "tesseract_config = '--oem 3'\n",
    "\n",
    "# Run the pipeline\n",
    "for filename in images.values():\n",
    "    print(f'{f\"filename\":=^30}')\n",
    "    image = cv2.imread(filename, 0)\n",
    "\n",
    "    # Preprocessing\n",
    "    angle = get_angle(image)\n",
    "    if angle:\n",
    "        image = get_rotated_image(image, angle)\n",
    "        cv2.imwrite(f'rotated.{filename}', rotated)\n",
    "    thresh = get_thresholded_image(image)\n",
    "    cv2.imwrite(f'preprocessed.{filename}', thresh)\n",
    "\n",
    "    # Text detection\n",
    "    preprocessed_image = cv2.imread(f'preprocessed.{filename}')\n",
    "    marked_image = get_detected_text(preprocessed_image)\n",
    "    cv2.imwrite(f'marked_image.{filename}', marked_image)\n",
    "\n",
    "    # Text recognition\n",
    "    text = get_text(thresh, config=tesseract_config)\n",
    "    print(text)"
   ]
  }
 ]
}